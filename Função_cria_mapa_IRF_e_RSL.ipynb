{
  "nbformat": 4,
  "nbformat_minor": 0,
  "metadata": {
    "colab": {
      "name": "Função cria mapa IRF e RSL.ipynb",
      "provenance": [],
      "collapsed_sections": [],
      "authorship_tag": "ABX9TyPrg25er5zJtBUvnHo5GEQv",
      "include_colab_link": true
    },
    "kernelspec": {
      "name": "python3",
      "display_name": "Python 3"
    },
    "language_info": {
      "name": "python"
    }
  },
  "cells": [
    {
      "cell_type": "markdown",
      "metadata": {
        "id": "view-in-github",
        "colab_type": "text"
      },
      "source": [
        "<a href=\"https://colab.research.google.com/github/maicon-reis/indice_de_forca_relativa/blob/main/Fun%C3%A7%C3%A3o_cria_mapa_IRF_e_RSL.ipynb\" target=\"_parent\"><img src=\"https://colab.research.google.com/assets/colab-badge.svg\" alt=\"Open In Colab\"/></a>"
      ]
    },
    {
      "cell_type": "code",
      "metadata": {
        "colab": {
          "base_uri": "https://localhost:8080/"
        },
        "id": "i1Q4c91WkQu2",
        "outputId": "6da1b2d6-4a47-4636-fd0c-4dde76fdd9cb"
      },
      "source": [
        "# Instalando bibliotecas \n",
        "!pip install -q ta\n",
        "!pip install -q yfinance --upgrade --no-cache-dir"
      ],
      "execution_count": 1,
      "outputs": [
        {
          "output_type": "stream",
          "text": [
            "  Building wheel for ta (setup.py) ... \u001b[?25l\u001b[?25hdone\n",
            "\u001b[K     |████████████████████████████████| 6.3 MB 11.6 MB/s \n",
            "\u001b[?25h  Building wheel for yfinance (setup.py) ... \u001b[?25l\u001b[?25hdone\n"
          ],
          "name": "stdout"
        }
      ]
    },
    {
      "cell_type": "code",
      "metadata": {
        "id": "qLbXjTQDlG47"
      },
      "source": [
        "# carregando as bibliotecas necessárias\n",
        "import pandas as pd\n",
        "import numpy as np\n",
        "import matplotlib.pyplot as plt\n",
        "from pandas_datareader import data as pdr\n",
        "from datetime import date\n",
        "import ta\n",
        "import yfinance as yf\n",
        "\n",
        "yf.pdr_override()\n",
        "\n",
        "import warnings\n",
        "warnings.filterwarnings('ignore')\n",
        "\n",
        "def calcula_ifr(ativos, inicio, p=10, p_rsi=14):\n",
        "    # Cria um data frame vazio\n",
        "    carteira = pd.DataFrame()\n",
        "\n",
        "    # popula o data frame\n",
        "    for t in ativos:\n",
        "        carteira[t] = pdr.get_data_yahoo(t, start=inicio, end=date.today())['Adj Close']\n",
        "    \n",
        "    carteira.columns =  carteira.columns.str.replace('.SA', '')\n",
        "\n",
        "    # calcula a média móvel e os índices RSL e RSI\n",
        "    for ticker in carteira.columns.to_list():\n",
        "        lower_ticker = ticker.lower()[:4]\n",
        "        carteira[f'MM_{lower_ticker[:4]}'] = carteira[ticker].rolling(p).mean()\n",
        "        carteira[f'RSL_{ticker[:4]}'] = (carteira[ticker]/carteira[f'MM_{lower_ticker}']-1)*100\n",
        "        carteira[f'RSI{p_rsi}_{ticker[:4]}'] = ta.momentum.RSIIndicator(close=carteira[ticker], window=p_rsi).rsi()\n",
        "    \n",
        "    # deleta as linhas com dados faltantes\n",
        "    carteira = carteira.dropna(axis=0)\n",
        "\n",
        "    # cria uma lista para popular com os dados que serão plotados no gráfico\n",
        "    indicadores = []\n",
        "\n",
        "    # popula a lista indicadores com o nome do ativo e os índices RSL e RSI\n",
        "    for ativo in ativos:\n",
        "        row = []\n",
        "        row.append(ativo[:5])\n",
        "        row.append(round(carteira[f'RSL_{ativo[:4]}'][-1], 2))\n",
        "        row.append(round(carteira[f'RSI{p_rsi}_{ativo[:4]}'][-1], 2))\n",
        "        indicadores.append(row)\n",
        "    \n",
        "    # cria um novo data frame com os dados que serão plotados no gráfico\n",
        "    mapa = pd.DataFrame(indicadores, columns=[\"Ativo\", \"RSL\", \"RSI14\"])\n",
        "\n",
        "    # retorna o  data frame com os dados para configuração do gráfico\n",
        "    return mapa\n",
        "\n",
        "def plota_grafico(mapa):\n",
        "    # configurações para criação do gráfico\n",
        "    plt.figure(figsize=(12,8))\n",
        "    plt.scatter(mapa['RSL'], mapa['RSI14'], s=80)\n",
        "    for i in range(mapa.shape[0]):\n",
        "        plt.text(x = mapa.RSL[i]+0.3\n",
        "           , y = mapa.RSI14[i]+0.4\n",
        "           , s = mapa.Ativo[i]\n",
        "           , fontdict = dict(color='yellow', size=14)\n",
        "           , bbox = dict(facecolor='black'), alpha=0.7)\n",
        "\n",
        "    plt.xlim(mapa.RSL.min()-1, mapa.RSL.max()+2)\n",
        "    plt.ylim(mapa.RSI14.min()-2, mapa.RSI14.max()+2)\n",
        "\n",
        "    setup = dict(size=13, color='black')\n",
        "    plt.text(1,  35, 'www.outspokenmarket.com', **setup)\n",
        "\n",
        "    plt.title(f\"Mapa de RSI e RSL - {date.today()}\")\n",
        "    plt.xlabel(\"RSL %\")\n",
        "    plt.ylabel(\"RSI\")\n",
        "    plt.show()"
      ],
      "execution_count": 77,
      "outputs": []
    },
    {
      "cell_type": "code",
      "metadata": {
        "colab": {
          "base_uri": "https://localhost:8080/",
          "height": 693
        },
        "id": "Oj8HoZv2mBG6",
        "outputId": "23a87f4d-bb22-4824-efaf-d74ee1f51857"
      },
      "source": [
        "ativos = ['JHSF3.SA', 'TRPL4.SA', 'NEOE3.SA', 'CSNA3.SA', 'ROMI3.SA',\n",
        "          'JBSS3.SA', 'ETER3.SA', 'ATOM3.SA', 'CSMG3.SA', 'EUCA3.SA']\n",
        "inicio = '2020-01-01'\n",
        "\n",
        "mapa = calcula_ifr(ativos, inicio, p=7, p_rsi=30)\n",
        "plota_grafico(mapa)"
      ],
      "execution_count": 78,
      "outputs": [
        {
          "output_type": "stream",
          "text": [
            "[*********************100%***********************]  1 of 1 completed\n",
            "[*********************100%***********************]  1 of 1 completed\n",
            "[*********************100%***********************]  1 of 1 completed\n",
            "[*********************100%***********************]  1 of 1 completed\n",
            "[*********************100%***********************]  1 of 1 completed\n",
            "[*********************100%***********************]  1 of 1 completed\n",
            "[*********************100%***********************]  1 of 1 completed\n",
            "[*********************100%***********************]  1 of 1 completed\n",
            "[*********************100%***********************]  1 of 1 completed\n",
            "[*********************100%***********************]  1 of 1 completed\n"
          ],
          "name": "stdout"
        },
        {
          "output_type": "display_data",
          "data": {
            "image/png": "[encoded data removed]",
            "text/plain": [
              "<Figure size 864x576 with 1 Axes>"
            ]
          },
          "metadata": {
            "tags": [],
            "needs_background": "light"
          }
        }
      ]
    }
  ]
}